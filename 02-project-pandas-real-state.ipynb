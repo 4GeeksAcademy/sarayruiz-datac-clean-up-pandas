{
 "cells": [
  {
   "cell_type": "markdown",
   "id": "innocent-university",
   "metadata": {
    "id": "innocent-university"
   },
   "source": [
    "# Limpieza del dataset de bienes raíces\n",
    "\n",
    "Este es un conjunto de datos (dataset) reales que fue descargado usando técnicas de web scraping. El archivo contiene registros de **Fotocasa**, el cual es uno de los sitios más populares de bienes raíces en España. Contiene miles de datos de casas reales publicadas en la web www.fotocasa.com.\n",
    "\n",
    "El dataset fue descargado hace algunos años y en ningún caso se obtuvo beneficio económico de ello.\n",
    "\n",
    "Tu objetivo es extraer tanta información como sea posible con el conocimiento que tienes hasta ahora de ciencia de datos.\n",
    "\n",
    "Agrega observaciones, conclusiones o notas acerca de los datos obtenidos en cada ejercicio."
   ]
  },
  {
   "cell_type": "code",
   "execution_count": 1,
   "id": "frank-heath",
   "metadata": {
    "ExecuteTime": {
     "end_time": "2025-09-23T22:18:44.079692Z",
     "start_time": "2025-09-23T22:18:43.699022Z"
    },
    "executionInfo": {
     "elapsed": 2,
     "status": "ok",
     "timestamp": 1760027303712,
     "user": {
      "displayName": "Saray Ruiz",
      "userId": "07829455197661124289"
     },
     "user_tz": -120
    },
    "id": "frank-heath"
   },
   "outputs": [],
   "source": [
    "import pandas as pd"
   ]
  },
  {
   "cell_type": "markdown",
   "id": "5807eba1fce08a86",
   "metadata": {
    "id": "5807eba1fce08a86"
   },
   "source": [
    "#### Ejercicio 00\n",
    "\n",
    "Lee el dataset data/real_estate.csv e intenta visualizar la tabla (★☆☆)"
   ]
  },
  {
   "cell_type": "code",
   "execution_count": 2,
   "id": "82e7dea53f252c1c",
   "metadata": {
    "ExecuteTime": {
     "end_time": "2025-09-23T22:18:48.046480Z",
     "start_time": "2025-09-23T22:18:47.647010Z"
    },
    "colab": {
     "base_uri": "https://localhost:8080/",
     "height": 652
    },
    "collapsed": true,
    "executionInfo": {
     "elapsed": 481,
     "status": "ok",
     "timestamp": 1760027304195,
     "user": {
      "displayName": "Saray Ruiz",
      "userId": "07829455197661124289"
     },
     "user_tz": -120
    },
    "id": "82e7dea53f252c1c",
    "outputId": "0bac0482-41ac-4f9e-dd2a-f42a113eb8b4"
   },
   "outputs": [
    {
     "data": {
      "text/html": [
       "<div>\n",
       "<style scoped>\n",
       "    .dataframe tbody tr th:only-of-type {\n",
       "        vertical-align: middle;\n",
       "    }\n",
       "\n",
       "    .dataframe tbody tr th {\n",
       "        vertical-align: top;\n",
       "    }\n",
       "\n",
       "    .dataframe thead th {\n",
       "        text-align: right;\n",
       "    }\n",
       "</style>\n",
       "<table border=\"1\" class=\"dataframe\">\n",
       "  <thead>\n",
       "    <tr style=\"text-align: right;\">\n",
       "      <th></th>\n",
       "      <th>Unnamed: 0</th>\n",
       "      <th>id_realEstates</th>\n",
       "      <th>isNew</th>\n",
       "      <th>realEstate_name</th>\n",
       "      <th>phone_realEstate</th>\n",
       "      <th>url_inmueble</th>\n",
       "      <th>rooms</th>\n",
       "      <th>bathrooms</th>\n",
       "      <th>surface</th>\n",
       "      <th>price</th>\n",
       "      <th>...</th>\n",
       "      <th>level4Id</th>\n",
       "      <th>level5Id</th>\n",
       "      <th>level6Id</th>\n",
       "      <th>level7Id</th>\n",
       "      <th>level8Id</th>\n",
       "      <th>accuracy</th>\n",
       "      <th>latitude</th>\n",
       "      <th>longitude</th>\n",
       "      <th>zipCode</th>\n",
       "      <th>customZone</th>\n",
       "    </tr>\n",
       "  </thead>\n",
       "  <tbody>\n",
       "    <tr>\n",
       "      <th>0</th>\n",
       "      <td>1</td>\n",
       "      <td>153771986</td>\n",
       "      <td>False</td>\n",
       "      <td>ferrari 57 inmobiliaria</td>\n",
       "      <td>912177526.0</td>\n",
       "      <td>https://www.fotocasa.es/es/comprar/vivienda/ma...</td>\n",
       "      <td>3.0</td>\n",
       "      <td>2.0</td>\n",
       "      <td>103.0</td>\n",
       "      <td>195000</td>\n",
       "      <td>...</td>\n",
       "      <td>0</td>\n",
       "      <td>0</td>\n",
       "      <td>0</td>\n",
       "      <td>0</td>\n",
       "      <td>0</td>\n",
       "      <td>0</td>\n",
       "      <td>40,2948276786438</td>\n",
       "      <td>-3,44402412135624</td>\n",
       "      <td>NaN</td>\n",
       "      <td>NaN</td>\n",
       "    </tr>\n",
       "    <tr>\n",
       "      <th>1</th>\n",
       "      <td>2</td>\n",
       "      <td>153867863</td>\n",
       "      <td>False</td>\n",
       "      <td>tecnocasa fuenlabrada ferrocarril</td>\n",
       "      <td>916358736.0</td>\n",
       "      <td>https://www.fotocasa.es/es/comprar/vivienda/ma...</td>\n",
       "      <td>3.0</td>\n",
       "      <td>1.0</td>\n",
       "      <td>NaN</td>\n",
       "      <td>89000</td>\n",
       "      <td>...</td>\n",
       "      <td>0</td>\n",
       "      <td>0</td>\n",
       "      <td>0</td>\n",
       "      <td>0</td>\n",
       "      <td>0</td>\n",
       "      <td>1</td>\n",
       "      <td>40,28674</td>\n",
       "      <td>-3,79351</td>\n",
       "      <td>NaN</td>\n",
       "      <td>NaN</td>\n",
       "    </tr>\n",
       "    <tr>\n",
       "      <th>2</th>\n",
       "      <td>3</td>\n",
       "      <td>153430440</td>\n",
       "      <td>False</td>\n",
       "      <td>look find boadilla</td>\n",
       "      <td>916350408.0</td>\n",
       "      <td>https://www.fotocasa.es/es/comprar/vivienda/ma...</td>\n",
       "      <td>2.0</td>\n",
       "      <td>2.0</td>\n",
       "      <td>99.0</td>\n",
       "      <td>390000</td>\n",
       "      <td>...</td>\n",
       "      <td>0</td>\n",
       "      <td>0</td>\n",
       "      <td>0</td>\n",
       "      <td>0</td>\n",
       "      <td>0</td>\n",
       "      <td>0</td>\n",
       "      <td>40,4115646786438</td>\n",
       "      <td>-3,90662252135624</td>\n",
       "      <td>NaN</td>\n",
       "      <td>NaN</td>\n",
       "    </tr>\n",
       "    <tr>\n",
       "      <th>3</th>\n",
       "      <td>4</td>\n",
       "      <td>152776331</td>\n",
       "      <td>False</td>\n",
       "      <td>tecnocasa fuenlabrada ferrocarril</td>\n",
       "      <td>916358736.0</td>\n",
       "      <td>https://www.fotocasa.es/es/comprar/vivienda/ma...</td>\n",
       "      <td>3.0</td>\n",
       "      <td>1.0</td>\n",
       "      <td>86.0</td>\n",
       "      <td>89000</td>\n",
       "      <td>...</td>\n",
       "      <td>0</td>\n",
       "      <td>0</td>\n",
       "      <td>0</td>\n",
       "      <td>0</td>\n",
       "      <td>0</td>\n",
       "      <td>0</td>\n",
       "      <td>40,2853785786438</td>\n",
       "      <td>-3,79508142135624</td>\n",
       "      <td>NaN</td>\n",
       "      <td>NaN</td>\n",
       "    </tr>\n",
       "    <tr>\n",
       "      <th>4</th>\n",
       "      <td>5</td>\n",
       "      <td>153180188</td>\n",
       "      <td>False</td>\n",
       "      <td>ferrari 57 inmobiliaria</td>\n",
       "      <td>912177526.0</td>\n",
       "      <td>https://www.fotocasa.es/es/comprar/vivienda/ma...</td>\n",
       "      <td>2.0</td>\n",
       "      <td>2.0</td>\n",
       "      <td>106.0</td>\n",
       "      <td>172000</td>\n",
       "      <td>...</td>\n",
       "      <td>0</td>\n",
       "      <td>0</td>\n",
       "      <td>0</td>\n",
       "      <td>0</td>\n",
       "      <td>0</td>\n",
       "      <td>0</td>\n",
       "      <td>40,2998774864376</td>\n",
       "      <td>-3,45226301356237</td>\n",
       "      <td>NaN</td>\n",
       "      <td>NaN</td>\n",
       "    </tr>\n",
       "    <tr>\n",
       "      <th>...</th>\n",
       "      <td>...</td>\n",
       "      <td>...</td>\n",
       "      <td>...</td>\n",
       "      <td>...</td>\n",
       "      <td>...</td>\n",
       "      <td>...</td>\n",
       "      <td>...</td>\n",
       "      <td>...</td>\n",
       "      <td>...</td>\n",
       "      <td>...</td>\n",
       "      <td>...</td>\n",
       "      <td>...</td>\n",
       "      <td>...</td>\n",
       "      <td>...</td>\n",
       "      <td>...</td>\n",
       "      <td>...</td>\n",
       "      <td>...</td>\n",
       "      <td>...</td>\n",
       "      <td>...</td>\n",
       "      <td>...</td>\n",
       "      <td>...</td>\n",
       "    </tr>\n",
       "    <tr>\n",
       "      <th>15330</th>\n",
       "      <td>15331</td>\n",
       "      <td>153901377</td>\n",
       "      <td>False</td>\n",
       "      <td>infocasa consulting</td>\n",
       "      <td>911360461.0</td>\n",
       "      <td>https://www.fotocasa.es/es/comprar/vivienda/ma...</td>\n",
       "      <td>2.0</td>\n",
       "      <td>1.0</td>\n",
       "      <td>96.0</td>\n",
       "      <td>259470</td>\n",
       "      <td>...</td>\n",
       "      <td>0</td>\n",
       "      <td>0</td>\n",
       "      <td>0</td>\n",
       "      <td>0</td>\n",
       "      <td>0</td>\n",
       "      <td>0</td>\n",
       "      <td>40,45416</td>\n",
       "      <td>-3,70286</td>\n",
       "      <td>NaN</td>\n",
       "      <td>NaN</td>\n",
       "    </tr>\n",
       "    <tr>\n",
       "      <th>15331</th>\n",
       "      <td>15332</td>\n",
       "      <td>150394373</td>\n",
       "      <td>False</td>\n",
       "      <td>inmobiliaria pulpon</td>\n",
       "      <td>912788039.0</td>\n",
       "      <td>https://www.fotocasa.es/es/comprar/vivienda/ma...</td>\n",
       "      <td>3.0</td>\n",
       "      <td>1.0</td>\n",
       "      <td>150.0</td>\n",
       "      <td>165000</td>\n",
       "      <td>...</td>\n",
       "      <td>0</td>\n",
       "      <td>0</td>\n",
       "      <td>0</td>\n",
       "      <td>0</td>\n",
       "      <td>0</td>\n",
       "      <td>0</td>\n",
       "      <td>40,36652</td>\n",
       "      <td>-3,48951</td>\n",
       "      <td>NaN</td>\n",
       "      <td>NaN</td>\n",
       "    </tr>\n",
       "    <tr>\n",
       "      <th>15332</th>\n",
       "      <td>15333</td>\n",
       "      <td>153901397</td>\n",
       "      <td>False</td>\n",
       "      <td>tecnocasa torrelodones</td>\n",
       "      <td>912780348.0</td>\n",
       "      <td>https://www.fotocasa.es/es/comprar/vivienda/ma...</td>\n",
       "      <td>4.0</td>\n",
       "      <td>2.0</td>\n",
       "      <td>175.0</td>\n",
       "      <td>495000</td>\n",
       "      <td>...</td>\n",
       "      <td>0</td>\n",
       "      <td>0</td>\n",
       "      <td>0</td>\n",
       "      <td>0</td>\n",
       "      <td>0</td>\n",
       "      <td>0</td>\n",
       "      <td>40,57444</td>\n",
       "      <td>-3,92124</td>\n",
       "      <td>NaN</td>\n",
       "      <td>NaN</td>\n",
       "    </tr>\n",
       "    <tr>\n",
       "      <th>15333</th>\n",
       "      <td>15334</td>\n",
       "      <td>152607440</td>\n",
       "      <td>False</td>\n",
       "      <td>inmobiliaria pulpon</td>\n",
       "      <td>912788039.0</td>\n",
       "      <td>https://www.fotocasa.es/es/comprar/vivienda/ma...</td>\n",
       "      <td>3.0</td>\n",
       "      <td>2.0</td>\n",
       "      <td>101.0</td>\n",
       "      <td>195000</td>\n",
       "      <td>...</td>\n",
       "      <td>0</td>\n",
       "      <td>0</td>\n",
       "      <td>0</td>\n",
       "      <td>0</td>\n",
       "      <td>0</td>\n",
       "      <td>0</td>\n",
       "      <td>40,36967</td>\n",
       "      <td>-3,48105</td>\n",
       "      <td>NaN</td>\n",
       "      <td>NaN</td>\n",
       "    </tr>\n",
       "    <tr>\n",
       "      <th>15334</th>\n",
       "      <td>15335</td>\n",
       "      <td>153901356</td>\n",
       "      <td>False</td>\n",
       "      <td>infocasa consulting</td>\n",
       "      <td>911360461.0</td>\n",
       "      <td>https://www.fotocasa.es/es/comprar/vivienda/ma...</td>\n",
       "      <td>3.0</td>\n",
       "      <td>2.0</td>\n",
       "      <td>152.0</td>\n",
       "      <td>765000</td>\n",
       "      <td>...</td>\n",
       "      <td>0</td>\n",
       "      <td>0</td>\n",
       "      <td>0</td>\n",
       "      <td>0</td>\n",
       "      <td>0</td>\n",
       "      <td>0</td>\n",
       "      <td>40,45773</td>\n",
       "      <td>-3,69068</td>\n",
       "      <td>NaN</td>\n",
       "      <td>NaN</td>\n",
       "    </tr>\n",
       "  </tbody>\n",
       "</table>\n",
       "<p>15335 rows × 37 columns</p>\n",
       "</div>"
      ],
      "text/plain": [
       "       Unnamed: 0  id_realEstates  isNew                    realEstate_name  \\\n",
       "0               1       153771986  False            ferrari 57 inmobiliaria   \n",
       "1               2       153867863  False  tecnocasa fuenlabrada ferrocarril   \n",
       "2               3       153430440  False                 look find boadilla   \n",
       "3               4       152776331  False  tecnocasa fuenlabrada ferrocarril   \n",
       "4               5       153180188  False            ferrari 57 inmobiliaria   \n",
       "...           ...             ...    ...                                ...   \n",
       "15330       15331       153901377  False                infocasa consulting   \n",
       "15331       15332       150394373  False                inmobiliaria pulpon   \n",
       "15332       15333       153901397  False             tecnocasa torrelodones   \n",
       "15333       15334       152607440  False                inmobiliaria pulpon   \n",
       "15334       15335       153901356  False                infocasa consulting   \n",
       "\n",
       "       phone_realEstate                                       url_inmueble  \\\n",
       "0           912177526.0  https://www.fotocasa.es/es/comprar/vivienda/ma...   \n",
       "1           916358736.0  https://www.fotocasa.es/es/comprar/vivienda/ma...   \n",
       "2           916350408.0  https://www.fotocasa.es/es/comprar/vivienda/ma...   \n",
       "3           916358736.0  https://www.fotocasa.es/es/comprar/vivienda/ma...   \n",
       "4           912177526.0  https://www.fotocasa.es/es/comprar/vivienda/ma...   \n",
       "...                 ...                                                ...   \n",
       "15330       911360461.0  https://www.fotocasa.es/es/comprar/vivienda/ma...   \n",
       "15331       912788039.0  https://www.fotocasa.es/es/comprar/vivienda/ma...   \n",
       "15332       912780348.0  https://www.fotocasa.es/es/comprar/vivienda/ma...   \n",
       "15333       912788039.0  https://www.fotocasa.es/es/comprar/vivienda/ma...   \n",
       "15334       911360461.0  https://www.fotocasa.es/es/comprar/vivienda/ma...   \n",
       "\n",
       "       rooms  bathrooms  surface   price  ... level4Id level5Id level6Id  \\\n",
       "0        3.0        2.0    103.0  195000  ...        0        0        0   \n",
       "1        3.0        1.0      NaN   89000  ...        0        0        0   \n",
       "2        2.0        2.0     99.0  390000  ...        0        0        0   \n",
       "3        3.0        1.0     86.0   89000  ...        0        0        0   \n",
       "4        2.0        2.0    106.0  172000  ...        0        0        0   \n",
       "...      ...        ...      ...     ...  ...      ...      ...      ...   \n",
       "15330    2.0        1.0     96.0  259470  ...        0        0        0   \n",
       "15331    3.0        1.0    150.0  165000  ...        0        0        0   \n",
       "15332    4.0        2.0    175.0  495000  ...        0        0        0   \n",
       "15333    3.0        2.0    101.0  195000  ...        0        0        0   \n",
       "15334    3.0        2.0    152.0  765000  ...        0        0        0   \n",
       "\n",
       "      level7Id level8Id accuracy          latitude          longitude zipCode  \\\n",
       "0            0        0        0  40,2948276786438  -3,44402412135624     NaN   \n",
       "1            0        0        1          40,28674           -3,79351     NaN   \n",
       "2            0        0        0  40,4115646786438  -3,90662252135624     NaN   \n",
       "3            0        0        0  40,2853785786438  -3,79508142135624     NaN   \n",
       "4            0        0        0  40,2998774864376  -3,45226301356237     NaN   \n",
       "...        ...      ...      ...               ...                ...     ...   \n",
       "15330        0        0        0          40,45416           -3,70286     NaN   \n",
       "15331        0        0        0          40,36652           -3,48951     NaN   \n",
       "15332        0        0        0          40,57444           -3,92124     NaN   \n",
       "15333        0        0        0          40,36967           -3,48105     NaN   \n",
       "15334        0        0        0          40,45773           -3,69068     NaN   \n",
       "\n",
       "      customZone  \n",
       "0            NaN  \n",
       "1            NaN  \n",
       "2            NaN  \n",
       "3            NaN  \n",
       "4            NaN  \n",
       "...          ...  \n",
       "15330        NaN  \n",
       "15331        NaN  \n",
       "15332        NaN  \n",
       "15333        NaN  \n",
       "15334        NaN  \n",
       "\n",
       "[15335 rows x 37 columns]"
      ]
     },
     "execution_count": 2,
     "metadata": {},
     "output_type": "execute_result"
    }
   ],
   "source": [
    "# Este archivo CSV contiene puntos y comas en lugar de comas como separadores\n",
    "df = pd.read_csv('real_estate.csv', sep=';')\n",
    "df"
   ]
  },
  {
   "cell_type": "markdown",
   "id": "9670bfd13cfca1e7",
   "metadata": {
    "id": "9670bfd13cfca1e7"
   },
   "source": [
    "## Trabajando con un DataFrame"
   ]
  },
  {
   "cell_type": "markdown",
   "id": "latin-guest",
   "metadata": {
    "id": "latin-guest"
   },
   "source": [
    "#### Ejercicio 01\n",
    "\n",
    "¿Cuál es la casa más cara del dataset? (★☆☆)\n",
    "\n",
    "Imprime la dirección y el precio de la casa seleccionada. Para visualizar el resultado utiliza un f-string. Por ejemplo:\n",
    "\n",
    "```py\n",
    "f'La casa más cara se encuentra en la dirección: {address} y su precio es {price} €'\n",
    "```"
   ]
  },
  {
   "cell_type": "code",
   "execution_count": 3,
   "id": "P0n_09oRea8M",
   "metadata": {
    "colab": {
     "base_uri": "https://localhost:8080/"
    },
    "executionInfo": {
     "elapsed": 6,
     "status": "ok",
     "timestamp": 1760027304203,
     "user": {
      "displayName": "Saray Ruiz",
      "userId": "07829455197661124289"
     },
     "user_tz": -120
    },
    "id": "P0n_09oRea8M",
    "outputId": "9acfa258-3dfb-483a-c3e8-c2051b0d6e0f"
   },
   "outputs": [
    {
     "data": {
      "text/plain": [
       "Index(['Unnamed: 0', 'id_realEstates', 'isNew', 'realEstate_name',\n",
       "       'phone_realEstate', 'url_inmueble', 'rooms', 'bathrooms', 'surface',\n",
       "       'price', 'date', 'description', 'address', 'country', 'level1',\n",
       "       'level2', 'level3', 'level4', 'level5', 'level6', 'level7', 'level8',\n",
       "       'upperLevel', 'countryId', 'level1Id', 'level2Id', 'level3Id',\n",
       "       'level4Id', 'level5Id', 'level6Id', 'level7Id', 'level8Id', 'accuracy',\n",
       "       'latitude', 'longitude', 'zipCode', 'customZone'],\n",
       "      dtype='object')"
      ]
     },
     "execution_count": 3,
     "metadata": {},
     "output_type": "execute_result"
    }
   ],
   "source": [
    "df.columns"
   ]
  },
  {
   "cell_type": "code",
   "execution_count": null,
   "id": "developing-optimum",
   "metadata": {
    "colab": {
     "base_uri": "https://localhost:8080/",
     "height": 35
    },
    "executionInfo": {
     "elapsed": 2,
     "status": "ok",
     "timestamp": 1760027304206,
     "user": {
      "displayName": "Saray Ruiz",
      "userId": "07829455197661124289"
     },
     "user_tz": -120
    },
    "id": "developing-optimum",
    "outputId": "82f1ca25-efe4-4772-e22e-f366a19c14e4"
   },
   "outputs": [
    {
     "data": {
      "text/plain": [
       "'La casa más cara se encuentra en la dirección: El Escorial y su precio es 8,500,000.00 €'"
      ]
     },
     "execution_count": 4,
     "metadata": {},
     "output_type": "execute_result"
    }
   ],
   "source": [
    "max_price = df['price'].max()\n",
    "max_house = df.loc[df['price'] == max_price].iloc[0]\n",
    "address = max_house['address']\n",
    "price = max_house['price']\n",
    "mensaje = f'La casa más cara se encuentra en la dirección: {address} y su precio es {price:,.2f} €'\n",
    "mensaje\n"
   ]
  },
  {
   "cell_type": "markdown",
   "id": "lesser-cosmetic",
   "metadata": {
    "id": "lesser-cosmetic"
   },
   "source": [
    "#### Ejercicio 02\n",
    "\n",
    "¿Cuál es la casa más barata del dataset? (★☆☆)\n",
    "\n",
    "Imprime la dirección y el precio de la casa seleccionada utilizando f-string"
   ]
  },
  {
   "cell_type": "code",
   "execution_count": 29,
   "id": "2bb9a393",
   "metadata": {},
   "outputs": [
    {
     "data": {
      "text/plain": [
       "'La casa más económica se encuentra en la dirección: Berlin, Coslada y su precio es 600.00 €'"
      ]
     },
     "execution_count": 29,
     "metadata": {},
     "output_type": "execute_result"
    }
   ],
   "source": [
    "df_filtro = df[df['price'] > 0]\n",
    "min_price = df_filtro['price'].min()\n",
    "min_house = df_filtro.loc[df_filtro['price'] == min_price].iloc[0]\n",
    "address = min_house['address']\n",
    "price = min_house['price']\n",
    "mensaje = f'La casa más económica se encuentra en la dirección: {address} y su precio es {price:,.2f} €'\n",
    "mensaje"
   ]
  },
  {
   "cell_type": "markdown",
   "id": "compliant-fellowship",
   "metadata": {
    "id": "compliant-fellowship"
   },
   "source": [
    "#### Ejercicio 03\n",
    "\n",
    "¿Cuál es la casa más grande del dataset? (★☆☆)\n",
    "\n",
    "Imprime la dirección y el área de las casas seleccionadas utilizando f-string"
   ]
  },
  {
   "cell_type": "code",
   "execution_count": 6,
   "id": "f73938ad",
   "metadata": {
    "colab": {
     "base_uri": "https://localhost:8080/",
     "height": 35
    },
    "executionInfo": {
     "elapsed": 2,
     "status": "ok",
     "timestamp": 1760027304214,
     "user": {
      "displayName": "Saray Ruiz",
      "userId": "07829455197661124289"
     },
     "user_tz": -120
    },
    "id": "f73938ad",
    "outputId": "f2258c46-6c2c-491e-ad16-bed90edfb318"
   },
   "outputs": [
    {
     "data": {
      "text/plain": [
       "'La casa más grande se encuentra en la dirección: Sevilla la Nueva en Madrid y su superficie es de 249,000.00 mtrs2'"
      ]
     },
     "execution_count": 6,
     "metadata": {},
     "output_type": "execute_result"
    }
   ],
   "source": [
    "max_grande = df['surface'].max()\n",
    "max_house = df.loc[df['surface'] == max_grande].iloc[0]\n",
    "address = max_house['address']\n",
    "surface = max_house['surface']\n",
    "country = max_house['level1']\n",
    "mensaje = f'La casa más grande se encuentra en la dirección: {address} en {country} y su superficie es de {surface:,.2f} mtrs2'\n",
    "mensaje"
   ]
  },
  {
   "cell_type": "markdown",
   "id": "89afefb0b0eb970e",
   "metadata": {
    "id": "89afefb0b0eb970e"
   },
   "source": [
    "#### Ejercicio 04\n",
    "\n",
    "¿Cuál es la casa más pequeña del dataset? (★☆☆)"
   ]
  },
  {
   "cell_type": "code",
   "execution_count": 7,
   "id": "every-tiffany",
   "metadata": {
    "colab": {
     "base_uri": "https://localhost:8080/",
     "height": 35
    },
    "executionInfo": {
     "elapsed": 3,
     "status": "ok",
     "timestamp": 1760027304219,
     "user": {
      "displayName": "Saray Ruiz",
      "userId": "07829455197661124289"
     },
     "user_tz": -120
    },
    "id": "every-tiffany",
    "outputId": "0ba29f68-1fb2-46f6-dc37-d817b90673eb"
   },
   "outputs": [
    {
     "data": {
      "text/plain": [
       "'La casa más pequeña se encuentra en la dirección: Calle Amparo,  Madrid Capital en Madrid y su superficie es de 15.0 mtrs2'"
      ]
     },
     "execution_count": 7,
     "metadata": {},
     "output_type": "execute_result"
    }
   ],
   "source": [
    "min_small = df['surface'].min()\n",
    "min_house = df.loc[df['surface'] == min_small].iloc[0]\n",
    "address = min_house['address']\n",
    "surface = min_house['surface']\n",
    "country = min_house['level1']\n",
    "mensaje = f'La casa más pequeña se encuentra en la dirección: {address} en {country} y su superficie es de {surface} mtrs2'\n",
    "mensaje"
   ]
  },
  {
   "cell_type": "markdown",
   "id": "crazy-blame",
   "metadata": {
    "id": "crazy-blame"
   },
   "source": [
    "#### Ejercicio 05.\n",
    "\n",
    "¿El dataset contiene valores no admitidos (NAs)? (★☆☆)\n",
    "\n",
    "- Muestra el nombre de las filas seguidas por un booleano (`True` o `False`) según contengan o no contengan NAs.\n",
    "- También muestra el nombre de las columnas seguidas por un booleano (`True` o `False`) según contengan o no contengan NAs."
   ]
  },
  {
   "cell_type": "code",
   "execution_count": null,
   "id": "d680NERVTwsP",
   "metadata": {
    "colab": {
     "base_uri": "https://localhost:8080/",
     "height": 461
    },
    "collapsed": true,
    "executionInfo": {
     "elapsed": 40,
     "status": "ok",
     "timestamp": 1760027304261,
     "user": {
      "displayName": "Saray Ruiz",
      "userId": "07829455197661124289"
     },
     "user_tz": -120
    },
    "id": "d680NERVTwsP",
    "outputId": "e2ff2ce8-ba1e-4c58-f8c9-609162d61785"
   },
   "outputs": [
    {
     "data": {
      "text/html": [
       "<div>\n",
       "<style scoped>\n",
       "    .dataframe tbody tr th:only-of-type {\n",
       "        vertical-align: middle;\n",
       "    }\n",
       "\n",
       "    .dataframe tbody tr th {\n",
       "        vertical-align: top;\n",
       "    }\n",
       "\n",
       "    .dataframe thead th {\n",
       "        text-align: right;\n",
       "    }\n",
       "</style>\n",
       "<table border=\"1\" class=\"dataframe\">\n",
       "  <thead>\n",
       "    <tr style=\"text-align: right;\">\n",
       "      <th></th>\n",
       "      <th>Unnamed: 0</th>\n",
       "      <th>id_realEstates</th>\n",
       "      <th>isNew</th>\n",
       "      <th>realEstate_name</th>\n",
       "      <th>phone_realEstate</th>\n",
       "      <th>url_inmueble</th>\n",
       "      <th>rooms</th>\n",
       "      <th>bathrooms</th>\n",
       "      <th>surface</th>\n",
       "      <th>price</th>\n",
       "      <th>...</th>\n",
       "      <th>level4Id</th>\n",
       "      <th>level5Id</th>\n",
       "      <th>level6Id</th>\n",
       "      <th>level7Id</th>\n",
       "      <th>level8Id</th>\n",
       "      <th>accuracy</th>\n",
       "      <th>latitude</th>\n",
       "      <th>longitude</th>\n",
       "      <th>zipCode</th>\n",
       "      <th>customZone</th>\n",
       "    </tr>\n",
       "  </thead>\n",
       "  <tbody>\n",
       "    <tr>\n",
       "      <th>0</th>\n",
       "      <td>False</td>\n",
       "      <td>False</td>\n",
       "      <td>False</td>\n",
       "      <td>False</td>\n",
       "      <td>False</td>\n",
       "      <td>False</td>\n",
       "      <td>False</td>\n",
       "      <td>False</td>\n",
       "      <td>False</td>\n",
       "      <td>False</td>\n",
       "      <td>...</td>\n",
       "      <td>False</td>\n",
       "      <td>False</td>\n",
       "      <td>False</td>\n",
       "      <td>False</td>\n",
       "      <td>False</td>\n",
       "      <td>False</td>\n",
       "      <td>False</td>\n",
       "      <td>False</td>\n",
       "      <td>True</td>\n",
       "      <td>True</td>\n",
       "    </tr>\n",
       "    <tr>\n",
       "      <th>1</th>\n",
       "      <td>False</td>\n",
       "      <td>False</td>\n",
       "      <td>False</td>\n",
       "      <td>False</td>\n",
       "      <td>False</td>\n",
       "      <td>False</td>\n",
       "      <td>False</td>\n",
       "      <td>False</td>\n",
       "      <td>True</td>\n",
       "      <td>False</td>\n",
       "      <td>...</td>\n",
       "      <td>False</td>\n",
       "      <td>False</td>\n",
       "      <td>False</td>\n",
       "      <td>False</td>\n",
       "      <td>False</td>\n",
       "      <td>False</td>\n",
       "      <td>False</td>\n",
       "      <td>False</td>\n",
       "      <td>True</td>\n",
       "      <td>True</td>\n",
       "    </tr>\n",
       "    <tr>\n",
       "      <th>2</th>\n",
       "      <td>False</td>\n",
       "      <td>False</td>\n",
       "      <td>False</td>\n",
       "      <td>False</td>\n",
       "      <td>False</td>\n",
       "      <td>False</td>\n",
       "      <td>False</td>\n",
       "      <td>False</td>\n",
       "      <td>False</td>\n",
       "      <td>False</td>\n",
       "      <td>...</td>\n",
       "      <td>False</td>\n",
       "      <td>False</td>\n",
       "      <td>False</td>\n",
       "      <td>False</td>\n",
       "      <td>False</td>\n",
       "      <td>False</td>\n",
       "      <td>False</td>\n",
       "      <td>False</td>\n",
       "      <td>True</td>\n",
       "      <td>True</td>\n",
       "    </tr>\n",
       "    <tr>\n",
       "      <th>3</th>\n",
       "      <td>False</td>\n",
       "      <td>False</td>\n",
       "      <td>False</td>\n",
       "      <td>False</td>\n",
       "      <td>False</td>\n",
       "      <td>False</td>\n",
       "      <td>False</td>\n",
       "      <td>False</td>\n",
       "      <td>False</td>\n",
       "      <td>False</td>\n",
       "      <td>...</td>\n",
       "      <td>False</td>\n",
       "      <td>False</td>\n",
       "      <td>False</td>\n",
       "      <td>False</td>\n",
       "      <td>False</td>\n",
       "      <td>False</td>\n",
       "      <td>False</td>\n",
       "      <td>False</td>\n",
       "      <td>True</td>\n",
       "      <td>True</td>\n",
       "    </tr>\n",
       "    <tr>\n",
       "      <th>4</th>\n",
       "      <td>False</td>\n",
       "      <td>False</td>\n",
       "      <td>False</td>\n",
       "      <td>False</td>\n",
       "      <td>False</td>\n",
       "      <td>False</td>\n",
       "      <td>False</td>\n",
       "      <td>False</td>\n",
       "      <td>False</td>\n",
       "      <td>False</td>\n",
       "      <td>...</td>\n",
       "      <td>False</td>\n",
       "      <td>False</td>\n",
       "      <td>False</td>\n",
       "      <td>False</td>\n",
       "      <td>False</td>\n",
       "      <td>False</td>\n",
       "      <td>False</td>\n",
       "      <td>False</td>\n",
       "      <td>True</td>\n",
       "      <td>True</td>\n",
       "    </tr>\n",
       "    <tr>\n",
       "      <th>...</th>\n",
       "      <td>...</td>\n",
       "      <td>...</td>\n",
       "      <td>...</td>\n",
       "      <td>...</td>\n",
       "      <td>...</td>\n",
       "      <td>...</td>\n",
       "      <td>...</td>\n",
       "      <td>...</td>\n",
       "      <td>...</td>\n",
       "      <td>...</td>\n",
       "      <td>...</td>\n",
       "      <td>...</td>\n",
       "      <td>...</td>\n",
       "      <td>...</td>\n",
       "      <td>...</td>\n",
       "      <td>...</td>\n",
       "      <td>...</td>\n",
       "      <td>...</td>\n",
       "      <td>...</td>\n",
       "      <td>...</td>\n",
       "      <td>...</td>\n",
       "    </tr>\n",
       "    <tr>\n",
       "      <th>15330</th>\n",
       "      <td>False</td>\n",
       "      <td>False</td>\n",
       "      <td>False</td>\n",
       "      <td>False</td>\n",
       "      <td>False</td>\n",
       "      <td>False</td>\n",
       "      <td>False</td>\n",
       "      <td>False</td>\n",
       "      <td>False</td>\n",
       "      <td>False</td>\n",
       "      <td>...</td>\n",
       "      <td>False</td>\n",
       "      <td>False</td>\n",
       "      <td>False</td>\n",
       "      <td>False</td>\n",
       "      <td>False</td>\n",
       "      <td>False</td>\n",
       "      <td>False</td>\n",
       "      <td>False</td>\n",
       "      <td>True</td>\n",
       "      <td>True</td>\n",
       "    </tr>\n",
       "    <tr>\n",
       "      <th>15331</th>\n",
       "      <td>False</td>\n",
       "      <td>False</td>\n",
       "      <td>False</td>\n",
       "      <td>False</td>\n",
       "      <td>False</td>\n",
       "      <td>False</td>\n",
       "      <td>False</td>\n",
       "      <td>False</td>\n",
       "      <td>False</td>\n",
       "      <td>False</td>\n",
       "      <td>...</td>\n",
       "      <td>False</td>\n",
       "      <td>False</td>\n",
       "      <td>False</td>\n",
       "      <td>False</td>\n",
       "      <td>False</td>\n",
       "      <td>False</td>\n",
       "      <td>False</td>\n",
       "      <td>False</td>\n",
       "      <td>True</td>\n",
       "      <td>True</td>\n",
       "    </tr>\n",
       "    <tr>\n",
       "      <th>15332</th>\n",
       "      <td>False</td>\n",
       "      <td>False</td>\n",
       "      <td>False</td>\n",
       "      <td>False</td>\n",
       "      <td>False</td>\n",
       "      <td>False</td>\n",
       "      <td>False</td>\n",
       "      <td>False</td>\n",
       "      <td>False</td>\n",
       "      <td>False</td>\n",
       "      <td>...</td>\n",
       "      <td>False</td>\n",
       "      <td>False</td>\n",
       "      <td>False</td>\n",
       "      <td>False</td>\n",
       "      <td>False</td>\n",
       "      <td>False</td>\n",
       "      <td>False</td>\n",
       "      <td>False</td>\n",
       "      <td>True</td>\n",
       "      <td>True</td>\n",
       "    </tr>\n",
       "    <tr>\n",
       "      <th>15333</th>\n",
       "      <td>False</td>\n",
       "      <td>False</td>\n",
       "      <td>False</td>\n",
       "      <td>False</td>\n",
       "      <td>False</td>\n",
       "      <td>False</td>\n",
       "      <td>False</td>\n",
       "      <td>False</td>\n",
       "      <td>False</td>\n",
       "      <td>False</td>\n",
       "      <td>...</td>\n",
       "      <td>False</td>\n",
       "      <td>False</td>\n",
       "      <td>False</td>\n",
       "      <td>False</td>\n",
       "      <td>False</td>\n",
       "      <td>False</td>\n",
       "      <td>False</td>\n",
       "      <td>False</td>\n",
       "      <td>True</td>\n",
       "      <td>True</td>\n",
       "    </tr>\n",
       "    <tr>\n",
       "      <th>15334</th>\n",
       "      <td>False</td>\n",
       "      <td>False</td>\n",
       "      <td>False</td>\n",
       "      <td>False</td>\n",
       "      <td>False</td>\n",
       "      <td>False</td>\n",
       "      <td>False</td>\n",
       "      <td>False</td>\n",
       "      <td>False</td>\n",
       "      <td>False</td>\n",
       "      <td>...</td>\n",
       "      <td>False</td>\n",
       "      <td>False</td>\n",
       "      <td>False</td>\n",
       "      <td>False</td>\n",
       "      <td>False</td>\n",
       "      <td>False</td>\n",
       "      <td>False</td>\n",
       "      <td>False</td>\n",
       "      <td>True</td>\n",
       "      <td>True</td>\n",
       "    </tr>\n",
       "  </tbody>\n",
       "</table>\n",
       "<p>15335 rows × 37 columns</p>\n",
       "</div>"
      ],
      "text/plain": [
       "       Unnamed: 0  id_realEstates  isNew  realEstate_name  phone_realEstate  \\\n",
       "0           False           False  False            False             False   \n",
       "1           False           False  False            False             False   \n",
       "2           False           False  False            False             False   \n",
       "3           False           False  False            False             False   \n",
       "4           False           False  False            False             False   \n",
       "...           ...             ...    ...              ...               ...   \n",
       "15330       False           False  False            False             False   \n",
       "15331       False           False  False            False             False   \n",
       "15332       False           False  False            False             False   \n",
       "15333       False           False  False            False             False   \n",
       "15334       False           False  False            False             False   \n",
       "\n",
       "       url_inmueble  rooms  bathrooms  surface  price  ...  level4Id  \\\n",
       "0             False  False      False    False  False  ...     False   \n",
       "1             False  False      False     True  False  ...     False   \n",
       "2             False  False      False    False  False  ...     False   \n",
       "3             False  False      False    False  False  ...     False   \n",
       "4             False  False      False    False  False  ...     False   \n",
       "...             ...    ...        ...      ...    ...  ...       ...   \n",
       "15330         False  False      False    False  False  ...     False   \n",
       "15331         False  False      False    False  False  ...     False   \n",
       "15332         False  False      False    False  False  ...     False   \n",
       "15333         False  False      False    False  False  ...     False   \n",
       "15334         False  False      False    False  False  ...     False   \n",
       "\n",
       "       level5Id  level6Id  level7Id  level8Id  accuracy  latitude  longitude  \\\n",
       "0         False     False     False     False     False     False      False   \n",
       "1         False     False     False     False     False     False      False   \n",
       "2         False     False     False     False     False     False      False   \n",
       "3         False     False     False     False     False     False      False   \n",
       "4         False     False     False     False     False     False      False   \n",
       "...         ...       ...       ...       ...       ...       ...        ...   \n",
       "15330     False     False     False     False     False     False      False   \n",
       "15331     False     False     False     False     False     False      False   \n",
       "15332     False     False     False     False     False     False      False   \n",
       "15333     False     False     False     False     False     False      False   \n",
       "15334     False     False     False     False     False     False      False   \n",
       "\n",
       "       zipCode  customZone  \n",
       "0         True        True  \n",
       "1         True        True  \n",
       "2         True        True  \n",
       "3         True        True  \n",
       "4         True        True  \n",
       "...        ...         ...  \n",
       "15330     True        True  \n",
       "15331     True        True  \n",
       "15332     True        True  \n",
       "15333     True        True  \n",
       "15334     True        True  \n",
       "\n",
       "[15335 rows x 37 columns]"
      ]
     },
     "execution_count": 8,
     "metadata": {},
     "output_type": "execute_result"
    }
   ],
   "source": [
    "# Mostramos las filas que contengan en alguna de sus columnas NA\n",
    "\n",
    "df_nas = df.isnull()\n",
    "df_nas\n"
   ]
  },
  {
   "cell_type": "code",
   "execution_count": 9,
   "id": "PbfefJoXYOTP",
   "metadata": {
    "colab": {
     "base_uri": "https://localhost:8080/",
     "height": 1000
    },
    "collapsed": true,
    "executionInfo": {
     "elapsed": 23,
     "status": "ok",
     "timestamp": 1760027304285,
     "user": {
      "displayName": "Saray Ruiz",
      "userId": "07829455197661124289"
     },
     "user_tz": -120
    },
    "id": "PbfefJoXYOTP",
    "outputId": "af6d6f0d-2b73-4d5f-9272-fef78f1fb1a0"
   },
   "outputs": [
    {
     "data": {
      "text/plain": [
       "Unnamed: 0          False\n",
       "id_realEstates      False\n",
       "isNew               False\n",
       "realEstate_name      True\n",
       "phone_realEstate     True\n",
       "url_inmueble        False\n",
       "rooms                True\n",
       "bathrooms            True\n",
       "surface              True\n",
       "price               False\n",
       "date                False\n",
       "description          True\n",
       "address             False\n",
       "country             False\n",
       "level1              False\n",
       "level2              False\n",
       "level3              False\n",
       "level4               True\n",
       "level5              False\n",
       "level6               True\n",
       "level7               True\n",
       "level8               True\n",
       "upperLevel          False\n",
       "countryId           False\n",
       "level1Id            False\n",
       "level2Id            False\n",
       "level3Id            False\n",
       "level4Id            False\n",
       "level5Id            False\n",
       "level6Id            False\n",
       "level7Id            False\n",
       "level8Id            False\n",
       "accuracy            False\n",
       "latitude            False\n",
       "longitude           False\n",
       "zipCode              True\n",
       "customZone           True\n",
       "dtype: bool"
      ]
     },
     "execution_count": 9,
     "metadata": {},
     "output_type": "execute_result"
    }
   ],
   "source": [
    "# Mostramos las columnas que contengan en alguna de sus celdas NA poniendo true (hay NA) o false.\n",
    "\n",
    "columnas_con_nas = df.isnull().any()\n",
    "columnas_con_nas"
   ]
  },
  {
   "cell_type": "code",
   "execution_count": 10,
   "id": "lwQqzTkjWUGx",
   "metadata": {
    "colab": {
     "base_uri": "https://localhost:8080/",
     "height": 458
    },
    "collapsed": true,
    "executionInfo": {
     "elapsed": 391,
     "status": "ok",
     "timestamp": 1760027304677,
     "user": {
      "displayName": "Saray Ruiz",
      "userId": "07829455197661124289"
     },
     "user_tz": -120
    },
    "id": "lwQqzTkjWUGx",
    "outputId": "4c808c2d-6c63-40c5-a051-18d76e660fdb"
   },
   "outputs": [
    {
     "data": {
      "text/plain": [
       "0                    [level6, level8, zipCode, customZone]\n",
       "1           [surface, level6, level8, zipCode, customZone]\n",
       "2                    [level6, level8, zipCode, customZone]\n",
       "3                    [level6, level8, zipCode, customZone]\n",
       "4                    [level6, level8, zipCode, customZone]\n",
       "                               ...                        \n",
       "15330                [level4, level6, zipCode, customZone]\n",
       "15331        [level6, level7, level8, zipCode, customZone]\n",
       "15332    [description, level6, level8, zipCode, customZ...\n",
       "15333        [level6, level7, level8, zipCode, customZone]\n",
       "15334                [level4, level6, zipCode, customZone]\n",
       "Length: 15335, dtype: object"
      ]
     },
     "execution_count": 10,
     "metadata": {},
     "output_type": "execute_result"
    }
   ],
   "source": [
    "# No es lo que pide el ejercicio. Obviarlo.\n",
    "columnas_vacias_por_fila = df_nas.apply(lambda row: list(row.index[row]), axis=1)\n",
    "columnas_vacias_por_fila\n"
   ]
  },
  {
   "cell_type": "code",
   "execution_count": 30,
   "id": "transparent-poetry",
   "metadata": {
    "colab": {
     "base_uri": "https://localhost:8080/"
    },
    "collapsed": true,
    "executionInfo": {
     "elapsed": 12,
     "status": "ok",
     "timestamp": 1760027304700,
     "user": {
      "displayName": "Saray Ruiz",
      "userId": "07829455197661124289"
     },
     "user_tz": -120
    },
    "id": "transparent-poetry",
    "outputId": "c5be8f3a-4d72-4d38-eb59-f36b84aba198"
   },
   "outputs": [
    {
     "name": "stdout",
     "output_type": "stream",
     "text": [
      "Filas que contienen NAs (True) o no (False):\n",
      " 0        True\n",
      "1        True\n",
      "2        True\n",
      "3        True\n",
      "4        True\n",
      "         ... \n",
      "15330    True\n",
      "15331    True\n",
      "15332    True\n",
      "15333    True\n",
      "15334    True\n",
      "Length: 15335, dtype: bool\n"
     ]
    }
   ],
   "source": [
    "filas_con_nas = df.isnull().any(axis=1)\n",
    "print(\"Filas que contienen NAs (True) o no (False):\\n\", filas_con_nas)"
   ]
  },
  {
   "cell_type": "markdown",
   "id": "italic-hydrogen",
   "metadata": {
    "id": "italic-hydrogen"
   },
   "source": [
    "### Ejercicio 06.\n",
    "\n",
    "Elimina las columnas que contengan NAs del dataset, si aplica (★★☆)\n",
    "\n",
    "Muestra las dimensiones del DataFrame original y del DataFrame después de las eliminaciones.\n"
   ]
  },
  {
   "cell_type": "markdown",
   "id": "9747ad48",
   "metadata": {},
   "source": [
    "He pedido Mentoría a Darío para resolverlo, no soy capaz."
   ]
  },
  {
   "cell_type": "code",
   "execution_count": 12,
   "id": "306e771d",
   "metadata": {
    "executionInfo": {
     "elapsed": 39,
     "status": "ok",
     "timestamp": 1760027304740,
     "user": {
      "displayName": "Saray Ruiz",
      "userId": "07829455197661124289"
     },
     "user_tz": -120
    },
    "id": "306e771d"
   },
   "outputs": [],
   "source": [
    "#todo"
   ]
  },
  {
   "cell_type": "markdown",
   "id": "c00ce93f7105532e",
   "metadata": {
    "id": "c00ce93f7105532e"
   },
   "source": [
    "#### Ejercicio 07\n",
    "\n",
    "¿Cuantas poblaciones (columna level5) contiene el dataset? (★☆☆)\n",
    "\n",
    "- Muestra una lista con los nombres de las poblaciones\n",
    "- Muestra el total de las mismas"
   ]
  },
  {
   "cell_type": "code",
   "execution_count": 35,
   "id": "dd8aec62c12bd8db",
   "metadata": {
    "colab": {
     "base_uri": "https://localhost:8080/",
     "height": 1000
    },
    "executionInfo": {
     "elapsed": 26,
     "status": "ok",
     "timestamp": 1760027304773,
     "user": {
      "displayName": "Saray Ruiz",
      "userId": "07829455197661124289"
     },
     "user_tz": -120
    },
    "id": "dd8aec62c12bd8db",
    "outputId": "e87634ff-e0d1-45f8-b88e-65f9a151df72"
   },
   "outputs": [
    {
     "data": {
      "text/plain": [
       "['Arganda del Rey',\n",
       " 'Fuenlabrada',\n",
       " 'Boadilla del Monte',\n",
       " 'Las Rozas de Madrid',\n",
       " ' Madrid Capital',\n",
       " 'Villaviciosa de Odón',\n",
       " 'Pinto',\n",
       " 'Valdemoro',\n",
       " 'Navalcarnero',\n",
       " 'Pozuelo de Alarcón',\n",
       " 'Torrejón de Ardoz',\n",
       " 'Navalagamella',\n",
       " 'San Sebastián de los Reyes',\n",
       " 'Rivas-vaciamadrid',\n",
       " 'Alpedrete',\n",
       " 'Móstoles',\n",
       " 'San Fernando de Henares',\n",
       " 'Coslada',\n",
       " 'Becerril de la Sierra',\n",
       " 'Alcalá de Henares',\n",
       " 'Chinchón',\n",
       " 'Parla',\n",
       " 'Alcorcón',\n",
       " 'El Escorial',\n",
       " 'Leganés',\n",
       " 'Pedrezuela',\n",
       " 'Majadahonda',\n",
       " 'Villanueva de la Cañada',\n",
       " 'Villanueva del Pardillo',\n",
       " 'Torrelodones',\n",
       " 'Moralzarzal',\n",
       " 'Mejorada del Campo',\n",
       " 'Aranjuez',\n",
       " 'Corpa',\n",
       " 'Getafe',\n",
       " 'Velilla de San Antonio',\n",
       " 'Sevilla la Nueva',\n",
       " 'San Martín de la Vega',\n",
       " 'Villalbilla',\n",
       " 'Collado Villalba',\n",
       " 'Alcobendas',\n",
       " 'El Molar (Madrid)',\n",
       " 'Moraleja de Enmedio',\n",
       " 'Algete',\n",
       " 'Campo Real',\n",
       " 'Torrejón de la Calzada',\n",
       " 'Colmenar Viejo',\n",
       " 'Valdemorillo',\n",
       " 'Fuente El Saz de Jarama',\n",
       " 'Tres Cantos',\n",
       " 'Arroyomolinos (Madrid)',\n",
       " 'Griñón',\n",
       " 'Paracuellos de Jarama',\n",
       " 'Guadarrama',\n",
       " 'Titulcia',\n",
       " 'Galapagar',\n",
       " 'Collado Mediano',\n",
       " 'Los Molinos',\n",
       " 'San Lorenzo de El Escorial',\n",
       " 'Loeches',\n",
       " 'San Martín de Valdeiglesias',\n",
       " 'Navas del Rey',\n",
       " 'Bustarviejo',\n",
       " 'Manzanares El Real',\n",
       " 'Carabaña',\n",
       " 'Casarrubuelos',\n",
       " 'Cercedilla',\n",
       " 'Fresnedillas de la Oliva',\n",
       " 'Valdemaqueda',\n",
       " 'Robledo de Chavela',\n",
       " 'Miraflores de la Sierra',\n",
       " 'Humanes de Madrid',\n",
       " 'Valdetorres de Jarama',\n",
       " 'San Agustín del Guadalix',\n",
       " 'Ciempozuelos',\n",
       " 'Camarma de Esteruelas',\n",
       " 'Torres de la Alameda',\n",
       " 'Talamanca de Jarama',\n",
       " 'El Atazar',\n",
       " 'Hoyo de Manzanares',\n",
       " 'El Boalo - Cerceda – Mataelpino',\n",
       " 'El Álamo',\n",
       " 'Valdilecha',\n",
       " 'Valdeolmos-Alalpardo',\n",
       " 'Guadalix de la Sierra',\n",
       " 'Belmonte de Tajo',\n",
       " 'El Vellón',\n",
       " 'Brunete',\n",
       " 'Redueña',\n",
       " 'Morata de Tajuña',\n",
       " 'Tielmes',\n",
       " 'Gargantilla del Lozoya',\n",
       " 'Meco',\n",
       " 'Venturada',\n",
       " 'Quijorna',\n",
       " 'Cenicientos',\n",
       " 'Torrejón de Velasco',\n",
       " 'Navacerrada',\n",
       " 'Santa María de la Alameda',\n",
       " 'Orusco de Tajuña',\n",
       " 'Daganzo de Arriba',\n",
       " 'Villamanta',\n",
       " 'Anchuelo',\n",
       " 'Valdaracete',\n",
       " 'Ajalvir',\n",
       " 'Los Santos de la Humosa',\n",
       " 'Villamanrique de Tajo',\n",
       " 'Colmenar de Oreja',\n",
       " 'Villa del Prado',\n",
       " 'Fuentidueña de Tajo',\n",
       " 'Colmenar del Arroyo',\n",
       " 'Valdelaguna',\n",
       " 'Cubas de la Sagra',\n",
       " 'Valdeavero',\n",
       " 'Aldea del Fresno',\n",
       " 'Ribatejada',\n",
       " 'Torrelaguna',\n",
       " 'Batres',\n",
       " 'Pezuela de las Torres',\n",
       " 'Colmenarejo',\n",
       " 'Serranillos del Valle',\n",
       " 'Cobeña',\n",
       " 'Soto del Real',\n",
       " 'El Berrueco',\n",
       " 'Villanueva de Perales',\n",
       " 'Fresno de Torote - Serracines',\n",
       " 'Pozuelo del Rey',\n",
       " 'Pelayos de la Presa',\n",
       " 'La Cabrera',\n",
       " 'Nuevo Baztán',\n",
       " 'Perales de Tajuña',\n",
       " 'Villaconejos',\n",
       " 'Villarejo de Salvanés',\n",
       " 'Cadalso de los Vidrios',\n",
       " 'Santorcaz',\n",
       " 'Madarcos',\n",
       " 'Garganta de los Montes',\n",
       " 'Puentes Viejas',\n",
       " 'Torremocha de Jarama',\n",
       " 'Valdemanco',\n",
       " 'Braojos',\n",
       " 'Lozoyuela-navas-sieteiglesias',\n",
       " 'Piñuécar-gandullas',\n",
       " 'Valdepiélagos',\n",
       " 'Valverde de Alcalá',\n",
       " 'Villar del Olmo',\n",
       " 'Villamantilla',\n",
       " 'Horcajo de la Sierra',\n",
       " 'Gascones',\n",
       " 'Zarzalejo',\n",
       " 'Villavieja del Lozoya',\n",
       " 'Brea de Tajo',\n",
       " 'Estremera',\n",
       " 'Chapinería',\n",
       " 'Navarredonda',\n",
       " 'Patones',\n",
       " 'Ambite',\n",
       " 'Navalafuente',\n",
       " 'Lozoya',\n",
       " 'Canencia',\n",
       " 'Cabanillas de la Sierra',\n",
       " 'Buitrago del Lozoya',\n",
       " 'Fresno de Torote',\n",
       " 'Robregordo',\n",
       " 'Pinilla del Valle',\n",
       " 'Rascafría',\n",
       " 'La Hiruela',\n",
       " 'Montejo de la Sierra']"
      ]
     },
     "execution_count": 35,
     "metadata": {},
     "output_type": "execute_result"
    }
   ],
   "source": [
    "# lista de poblaciones\n",
    "poblaciones = df['level5'].unique()\n",
    "\n",
    "# Calcular el total de poblaciones\n",
    "total_poblaciones = len(poblaciones)\n",
    "\n",
    "poblaciones.tolist()"
   ]
  },
  {
   "cell_type": "code",
   "execution_count": 36,
   "id": "0d7e84ef",
   "metadata": {},
   "outputs": [
    {
     "data": {
      "text/plain": [
       "('Total de poblaciones:', 168)"
      ]
     },
     "execution_count": 36,
     "metadata": {},
     "output_type": "execute_result"
    }
   ],
   "source": [
    "'Total de poblaciones:', total_poblaciones"
   ]
  },
  {
   "cell_type": "markdown",
   "id": "ffe874b946959731",
   "metadata": {
    "id": "ffe874b946959731"
   },
   "source": [
    "#### Ejercicio 08\n",
    "\n",
    "¿Cuál es la media de precios en la población (columna level5) de \"Arroyomolinos (Madrid)\"? (★★☆)"
   ]
  },
  {
   "cell_type": "code",
   "execution_count": 14,
   "id": "1454ad464d3f1dfe",
   "metadata": {
    "colab": {
     "base_uri": "https://localhost:8080/",
     "height": 35
    },
    "executionInfo": {
     "elapsed": 16,
     "status": "ok",
     "timestamp": 1760027304790,
     "user": {
      "displayName": "Saray Ruiz",
      "userId": "07829455197661124289"
     },
     "user_tz": -120
    },
    "id": "1454ad464d3f1dfe",
    "outputId": "89f9fbf3-a6fe-41d7-d912-9a3ef40089de"
   },
   "outputs": [
    {
     "data": {
      "text/plain": [
       "'La media de precios en Arroyomolinos (Madrid) es: 294,541.60 €'"
      ]
     },
     "execution_count": 14,
     "metadata": {},
     "output_type": "execute_result"
    }
   ],
   "source": [
    "poblacion_arro= df[df['level5'] == 'Arroyomolinos (Madrid)']\n",
    "media_precio = poblacion_arro['price'].mean()\n",
    "f'La media de precios en Arroyomolinos (Madrid) es: {media_precio:,.2f} €'"
   ]
  },
  {
   "cell_type": "markdown",
   "id": "actual-edinburgh",
   "metadata": {
    "id": "actual-edinburgh"
   },
   "source": [
    "#### Ejercicio 09.\n",
    "\n",
    "¿Los precios promedios de \"Valdemorillo\" y \"Galapagar\" son iguales? (★★☆)\n",
    "\n",
    "- Muestra ambos promedios\n",
    "- Escribe en una celda markdown una conclusión sobre ellos"
   ]
  },
  {
   "cell_type": "code",
   "execution_count": null,
   "id": "numeric-commerce",
   "metadata": {
    "colab": {
     "base_uri": "https://localhost:8080/",
     "height": 54
    },
    "executionInfo": {
     "elapsed": 3,
     "status": "ok",
     "timestamp": 1760027304793,
     "user": {
      "displayName": "Saray Ruiz",
      "userId": "07829455197661124289"
     },
     "user_tz": -120
    },
    "id": "numeric-commerce",
    "outputId": "01e307df-325b-443b-e878-3935356b70cd"
   },
   "outputs": [
    {
     "data": {
      "text/plain": [
       "'El promedio del precio de Valdemorillo es de 363,860.29 €'"
      ]
     },
     "metadata": {},
     "output_type": "display_data"
    },
    {
     "data": {
      "text/plain": [
       "'El promedio del precio de Galapagar es de 360,063.20 €'"
      ]
     },
     "execution_count": 15,
     "metadata": {},
     "output_type": "execute_result"
    }
   ],
   "source": [
    "poblacion_val = df[df['level5'] == 'Valdemorillo']\n",
    "poblacion_gal = df[df['level5'] == 'Galapagar']\n",
    "\n",
    "promedio_val = poblacion_val['price'].mean()\n",
    "promedio_gal = poblacion_gal['price'].mean()\n",
    "\n",
    "display(f'El promedio del precio de Valdemorillo es de {promedio_val:,.2f} €')\n",
    "f'El promedio del precio de Galapagar es de {promedio_gal:,.2f} €'"
   ]
  },
  {
   "cell_type": "markdown",
   "id": "16bc59ea",
   "metadata": {},
   "source": [
    "#### Conclusión Ejercicio 09.\n",
    "Podemos decir que el promedio de precios entre ambas poblaciones no son iguales pero si muy parecidas."
   ]
  },
  {
   "cell_type": "markdown",
   "id": "lonely-article",
   "metadata": {
    "id": "lonely-article"
   },
   "source": [
    "#### Ejercicio 10\n",
    "\n",
    "¿Los promedios de precio por metro cuadrado (precio/m2) de \"Valdemorillo\" y \"Galapagar\" son iguales? (★★☆)\n",
    "\n",
    "> Pista: Crea una nueva columna llamada `pps` (*price per square* o precio por metro cuadrado) y luego analiza los valores.\n",
    "\n",
    "- Muestra ambos promedios de precio por metro cuadrado\n",
    "- Escribe en una celda markdown una conclusión sobre ellos"
   ]
  },
  {
   "cell_type": "code",
   "execution_count": 40,
   "id": "common-drilling",
   "metadata": {
    "colab": {
     "base_uri": "https://localhost:8080/",
     "height": 54
    },
    "executionInfo": {
     "elapsed": 27,
     "status": "ok",
     "timestamp": 1760027304821,
     "user": {
      "displayName": "Saray Ruiz",
      "userId": "07829455197661124289"
     },
     "user_tz": -120
    },
    "id": "common-drilling",
    "outputId": "f96d4638-c182-43d7-94f0-2409e3f5e3eb"
   },
   "outputs": [
    {
     "data": {
      "text/plain": [
       "'El promedio del metro cuadrado de Valdemorillo es de 1,317.95 €'"
      ]
     },
     "execution_count": 40,
     "metadata": {},
     "output_type": "execute_result"
    }
   ],
   "source": [
    "# Creo columna con el calculo que necesito que me haga.\n",
    "df ['pps'] = df['price'] / df['surface']\n",
    "\n",
    "poblacion_val = df[df['level5'] == 'Valdemorillo']\n",
    "poblacion_gal = df[df['level5'] == 'Galapagar']\n",
    "\n",
    "promediomt2_val = poblacion_val['pps'].mean()\n",
    "promediomt2_gal = poblacion_gal['pps'].mean()\n",
    "\n",
    "(f'El promedio del metro cuadrado de Valdemorillo es de {promediomt2_val:,.2f} €')"
   ]
  },
  {
   "cell_type": "code",
   "execution_count": 41,
   "id": "e71a756b",
   "metadata": {},
   "outputs": [
    {
     "data": {
      "text/plain": [
       "'El promedio del metro cuadrado de Galapagar es de 1,606.32 €'"
      ]
     },
     "execution_count": 41,
     "metadata": {},
     "output_type": "execute_result"
    }
   ],
   "source": [
    "f'El promedio del metro cuadrado de Galapagar es de {promediomt2_gal:,.2f} €'"
   ]
  },
  {
   "cell_type": "markdown",
   "id": "ddfec965",
   "metadata": {},
   "source": [
    "#### Conclusión Ejercicio 10\n",
    "El precio del metro cuadrado de Galapagar es más costoso.\n"
   ]
  },
  {
   "cell_type": "markdown",
   "id": "coordinate-sunrise",
   "metadata": {
    "id": "coordinate-sunrise"
   },
   "source": [
    "#### Ejercicio 11\n",
    "\n",
    "¿Cuántas agencia de bienes raíces contiene el dataset? (★★☆)\n",
    "\n",
    "- Muestra el valor obtenido."
   ]
  },
  {
   "cell_type": "code",
   "execution_count": 42,
   "id": "valid-honolulu",
   "metadata": {
    "colab": {
     "base_uri": "https://localhost:8080/"
    },
    "executionInfo": {
     "elapsed": 49,
     "status": "ok",
     "timestamp": 1760027304871,
     "user": {
      "displayName": "Saray Ruiz",
      "userId": "07829455197661124289"
     },
     "user_tz": -120
    },
    "id": "valid-honolulu",
    "outputId": "5e5858ac-18a0-469f-e9a7-d46794c0afbc"
   },
   "outputs": [
    {
     "data": {
      "text/plain": [
       "1822"
      ]
     },
     "execution_count": 42,
     "metadata": {},
     "output_type": "execute_result"
    }
   ],
   "source": [
    "agencias = df['realEstate_name'].unique()\n",
    "total_agencias = len(agencias)\n",
    "total_agencias"
   ]
  },
  {
   "cell_type": "markdown",
   "id": "binding-ebony",
   "metadata": {
    "id": "binding-ebony"
   },
   "source": [
    "#### Ejercicio 12\n",
    "\n",
    "¿Cuál es la población (columna level5) que contiene la mayor cantidad de casas?(★★☆)\n",
    "\n",
    "- Muestra la población y el número de casas."
   ]
  },
  {
   "cell_type": "code",
   "execution_count": 43,
   "id": "static-perry",
   "metadata": {
    "colab": {
     "base_uri": "https://localhost:8080/",
     "height": 35
    },
    "executionInfo": {
     "elapsed": 43,
     "status": "ok",
     "timestamp": 1760027304871,
     "user": {
      "displayName": "Saray Ruiz",
      "userId": "07829455197661124289"
     },
     "user_tz": -120
    },
    "id": "static-perry",
    "outputId": "f14b1f1e-9f5a-4c0c-acf5-175f4c468183"
   },
   "outputs": [
    {
     "data": {
      "text/plain": [
       "'La población con la mayor cantidad de casas es Madrid Capital con 6643 casas.'"
      ]
     },
     "execution_count": 43,
     "metadata": {},
     "output_type": "execute_result"
    }
   ],
   "source": [
    "casaspoblacion = df['level5'].value_counts()\n",
    "\n",
    "poblacion_mas_casas = casaspoblacion.idxmax()\n",
    "cantidad_casas = casaspoblacion.max()\n",
    "\n",
    "f'La población con la mayor cantidad de casas es{poblacion_mas_casas} con {cantidad_casas} casas.'"
   ]
  },
  {
   "cell_type": "markdown",
   "id": "f6891b36e4d016c4",
   "metadata": {
    "id": "f6891b36e4d016c4"
   },
   "source": [
    "---\n",
    "\n",
    "## Trabajando con un subconjunto del DataFrame"
   ]
  },
  {
   "cell_type": "markdown",
   "id": "entire-classification",
   "metadata": {
    "id": "entire-classification"
   },
   "source": [
    "#### Ejercicio 13\n",
    "\n",
    "Ahora vamos a trabajar con el \"cinturón sur\" de Madrid.\n",
    "\n",
    "Haz un subconjunto del DataFrame original que contenga las siguientes poblaciones (columna level5): \"Fuenlabrada\", \"Leganés\", \"Getafe\", \"Alcorcón\" (★★☆)\n",
    "\n",
    "> Pista: Filtra el DataFrame original usando la columna `level5` y la función `isin`."
   ]
  },
  {
   "cell_type": "code",
   "execution_count": 44,
   "id": "binary-input",
   "metadata": {
    "colab": {
     "base_uri": "https://localhost:8080/",
     "height": 617
    },
    "executionInfo": {
     "elapsed": 18,
     "status": "ok",
     "timestamp": 1760027304886,
     "user": {
      "displayName": "Saray Ruiz",
      "userId": "07829455197661124289"
     },
     "user_tz": -120
    },
    "id": "binary-input",
    "outputId": "b3b5e449-4b9d-43d5-c9c3-5ab4718837f9"
   },
   "outputs": [
    {
     "data": {
      "text/html": [
       "<div>\n",
       "<style scoped>\n",
       "    .dataframe tbody tr th:only-of-type {\n",
       "        vertical-align: middle;\n",
       "    }\n",
       "\n",
       "    .dataframe tbody tr th {\n",
       "        vertical-align: top;\n",
       "    }\n",
       "\n",
       "    .dataframe thead th {\n",
       "        text-align: right;\n",
       "    }\n",
       "</style>\n",
       "<table border=\"1\" class=\"dataframe\">\n",
       "  <thead>\n",
       "    <tr style=\"text-align: right;\">\n",
       "      <th></th>\n",
       "      <th>Unnamed: 0</th>\n",
       "      <th>id_realEstates</th>\n",
       "      <th>isNew</th>\n",
       "      <th>realEstate_name</th>\n",
       "      <th>phone_realEstate</th>\n",
       "      <th>url_inmueble</th>\n",
       "      <th>rooms</th>\n",
       "      <th>bathrooms</th>\n",
       "      <th>surface</th>\n",
       "      <th>price</th>\n",
       "      <th>...</th>\n",
       "      <th>level5Id</th>\n",
       "      <th>level6Id</th>\n",
       "      <th>level7Id</th>\n",
       "      <th>level8Id</th>\n",
       "      <th>accuracy</th>\n",
       "      <th>latitude</th>\n",
       "      <th>longitude</th>\n",
       "      <th>zipCode</th>\n",
       "      <th>customZone</th>\n",
       "      <th>pps</th>\n",
       "    </tr>\n",
       "  </thead>\n",
       "  <tbody>\n",
       "    <tr>\n",
       "      <th>1</th>\n",
       "      <td>2</td>\n",
       "      <td>153867863</td>\n",
       "      <td>False</td>\n",
       "      <td>tecnocasa fuenlabrada ferrocarril</td>\n",
       "      <td>916358736.0</td>\n",
       "      <td>https://www.fotocasa.es/es/comprar/vivienda/ma...</td>\n",
       "      <td>3.0</td>\n",
       "      <td>1.0</td>\n",
       "      <td>NaN</td>\n",
       "      <td>89000</td>\n",
       "      <td>...</td>\n",
       "      <td>0</td>\n",
       "      <td>0</td>\n",
       "      <td>0</td>\n",
       "      <td>0</td>\n",
       "      <td>1</td>\n",
       "      <td>40,28674</td>\n",
       "      <td>-3,79351</td>\n",
       "      <td>NaN</td>\n",
       "      <td>NaN</td>\n",
       "      <td>NaN</td>\n",
       "    </tr>\n",
       "    <tr>\n",
       "      <th>3</th>\n",
       "      <td>4</td>\n",
       "      <td>152776331</td>\n",
       "      <td>False</td>\n",
       "      <td>tecnocasa fuenlabrada ferrocarril</td>\n",
       "      <td>916358736.0</td>\n",
       "      <td>https://www.fotocasa.es/es/comprar/vivienda/ma...</td>\n",
       "      <td>3.0</td>\n",
       "      <td>1.0</td>\n",
       "      <td>86.0</td>\n",
       "      <td>89000</td>\n",
       "      <td>...</td>\n",
       "      <td>0</td>\n",
       "      <td>0</td>\n",
       "      <td>0</td>\n",
       "      <td>0</td>\n",
       "      <td>0</td>\n",
       "      <td>40,2853785786438</td>\n",
       "      <td>-3,79508142135624</td>\n",
       "      <td>NaN</td>\n",
       "      <td>NaN</td>\n",
       "      <td>1034.883721</td>\n",
       "    </tr>\n",
       "    <tr>\n",
       "      <th>85</th>\n",
       "      <td>86</td>\n",
       "      <td>153152077</td>\n",
       "      <td>False</td>\n",
       "      <td>sinergical inmobiliaria</td>\n",
       "      <td>NaN</td>\n",
       "      <td>https://www.fotocasa.es/es/comprar/vivienda/le...</td>\n",
       "      <td>1.0</td>\n",
       "      <td>1.0</td>\n",
       "      <td>50.0</td>\n",
       "      <td>107000</td>\n",
       "      <td>...</td>\n",
       "      <td>0</td>\n",
       "      <td>0</td>\n",
       "      <td>0</td>\n",
       "      <td>0</td>\n",
       "      <td>1</td>\n",
       "      <td>40,35059</td>\n",
       "      <td>-3,82693</td>\n",
       "      <td>NaN</td>\n",
       "      <td>NaN</td>\n",
       "      <td>2140.000000</td>\n",
       "    </tr>\n",
       "    <tr>\n",
       "      <th>94</th>\n",
       "      <td>95</td>\n",
       "      <td>153995577</td>\n",
       "      <td>False</td>\n",
       "      <td>viviendas365com</td>\n",
       "      <td>911226014.0</td>\n",
       "      <td>https://www.fotocasa.es/es/comprar/vivienda/le...</td>\n",
       "      <td>3.0</td>\n",
       "      <td>2.0</td>\n",
       "      <td>120.0</td>\n",
       "      <td>320000</td>\n",
       "      <td>...</td>\n",
       "      <td>0</td>\n",
       "      <td>0</td>\n",
       "      <td>0</td>\n",
       "      <td>0</td>\n",
       "      <td>0</td>\n",
       "      <td>40,31933</td>\n",
       "      <td>-3,77574</td>\n",
       "      <td>NaN</td>\n",
       "      <td>NaN</td>\n",
       "      <td>2666.666667</td>\n",
       "    </tr>\n",
       "    <tr>\n",
       "      <th>109</th>\n",
       "      <td>110</td>\n",
       "      <td>153586414</td>\n",
       "      <td>False</td>\n",
       "      <td>area uno asesores inmobiliarios</td>\n",
       "      <td>912664081.0</td>\n",
       "      <td>https://www.fotocasa.es/es/comprar/vivienda/ma...</td>\n",
       "      <td>3.0</td>\n",
       "      <td>3.0</td>\n",
       "      <td>142.0</td>\n",
       "      <td>425000</td>\n",
       "      <td>...</td>\n",
       "      <td>0</td>\n",
       "      <td>0</td>\n",
       "      <td>0</td>\n",
       "      <td>0</td>\n",
       "      <td>0</td>\n",
       "      <td>40,3313411</td>\n",
       "      <td>-3,8313868</td>\n",
       "      <td>NaN</td>\n",
       "      <td>NaN</td>\n",
       "      <td>2992.957746</td>\n",
       "    </tr>\n",
       "    <tr>\n",
       "      <th>...</th>\n",
       "      <td>...</td>\n",
       "      <td>...</td>\n",
       "      <td>...</td>\n",
       "      <td>...</td>\n",
       "      <td>...</td>\n",
       "      <td>...</td>\n",
       "      <td>...</td>\n",
       "      <td>...</td>\n",
       "      <td>...</td>\n",
       "      <td>...</td>\n",
       "      <td>...</td>\n",
       "      <td>...</td>\n",
       "      <td>...</td>\n",
       "      <td>...</td>\n",
       "      <td>...</td>\n",
       "      <td>...</td>\n",
       "      <td>...</td>\n",
       "      <td>...</td>\n",
       "      <td>...</td>\n",
       "      <td>...</td>\n",
       "      <td>...</td>\n",
       "    </tr>\n",
       "    <tr>\n",
       "      <th>15275</th>\n",
       "      <td>15276</td>\n",
       "      <td>153903887</td>\n",
       "      <td>False</td>\n",
       "      <td>aliseda servicios de gestion inmobiliaria</td>\n",
       "      <td>911368198.0</td>\n",
       "      <td>https://www.fotocasa.es/es/comprar/vivienda/al...</td>\n",
       "      <td>3.0</td>\n",
       "      <td>1.0</td>\n",
       "      <td>78.0</td>\n",
       "      <td>138000</td>\n",
       "      <td>...</td>\n",
       "      <td>0</td>\n",
       "      <td>0</td>\n",
       "      <td>0</td>\n",
       "      <td>0</td>\n",
       "      <td>1</td>\n",
       "      <td>40,31381</td>\n",
       "      <td>-3,83733</td>\n",
       "      <td>NaN</td>\n",
       "      <td>NaN</td>\n",
       "      <td>1769.230769</td>\n",
       "    </tr>\n",
       "    <tr>\n",
       "      <th>15291</th>\n",
       "      <td>15292</td>\n",
       "      <td>151697757</td>\n",
       "      <td>False</td>\n",
       "      <td>unipiso</td>\n",
       "      <td>912788631.0</td>\n",
       "      <td>https://www.fotocasa.es/es/comprar/vivienda/al...</td>\n",
       "      <td>3.0</td>\n",
       "      <td>2.0</td>\n",
       "      <td>110.0</td>\n",
       "      <td>279000</td>\n",
       "      <td>...</td>\n",
       "      <td>0</td>\n",
       "      <td>0</td>\n",
       "      <td>0</td>\n",
       "      <td>0</td>\n",
       "      <td>0</td>\n",
       "      <td>40,3259051</td>\n",
       "      <td>-3,76318</td>\n",
       "      <td>NaN</td>\n",
       "      <td>NaN</td>\n",
       "      <td>2536.363636</td>\n",
       "    </tr>\n",
       "    <tr>\n",
       "      <th>15305</th>\n",
       "      <td>15306</td>\n",
       "      <td>153902389</td>\n",
       "      <td>False</td>\n",
       "      <td>jadein ferrero</td>\n",
       "      <td>914871639.0</td>\n",
       "      <td>https://www.fotocasa.es/es/comprar/vivienda/ma...</td>\n",
       "      <td>3.0</td>\n",
       "      <td>2.0</td>\n",
       "      <td>85.0</td>\n",
       "      <td>170000</td>\n",
       "      <td>...</td>\n",
       "      <td>0</td>\n",
       "      <td>0</td>\n",
       "      <td>0</td>\n",
       "      <td>0</td>\n",
       "      <td>0</td>\n",
       "      <td>40,2882193</td>\n",
       "      <td>-3,8098617</td>\n",
       "      <td>NaN</td>\n",
       "      <td>NaN</td>\n",
       "      <td>2000.000000</td>\n",
       "    </tr>\n",
       "    <tr>\n",
       "      <th>15322</th>\n",
       "      <td>15323</td>\n",
       "      <td>153871864</td>\n",
       "      <td>False</td>\n",
       "      <td>gestion comercial</td>\n",
       "      <td>911220662.0</td>\n",
       "      <td>https://www.fotocasa.es/es/comprar/vivienda/ma...</td>\n",
       "      <td>3.0</td>\n",
       "      <td>1.0</td>\n",
       "      <td>91.0</td>\n",
       "      <td>112000</td>\n",
       "      <td>...</td>\n",
       "      <td>0</td>\n",
       "      <td>0</td>\n",
       "      <td>0</td>\n",
       "      <td>0</td>\n",
       "      <td>0</td>\n",
       "      <td>40,28282</td>\n",
       "      <td>-3,78892</td>\n",
       "      <td>NaN</td>\n",
       "      <td>NaN</td>\n",
       "      <td>1230.769231</td>\n",
       "    </tr>\n",
       "    <tr>\n",
       "      <th>15325</th>\n",
       "      <td>15326</td>\n",
       "      <td>153901467</td>\n",
       "      <td>False</td>\n",
       "      <td>montehogar 68</td>\n",
       "      <td>911790675.0</td>\n",
       "      <td>https://www.fotocasa.es/es/comprar/vivienda/ma...</td>\n",
       "      <td>2.0</td>\n",
       "      <td>2.0</td>\n",
       "      <td>99.0</td>\n",
       "      <td>215000</td>\n",
       "      <td>...</td>\n",
       "      <td>0</td>\n",
       "      <td>0</td>\n",
       "      <td>0</td>\n",
       "      <td>0</td>\n",
       "      <td>1</td>\n",
       "      <td>40,28062</td>\n",
       "      <td>-3,79869</td>\n",
       "      <td>NaN</td>\n",
       "      <td>NaN</td>\n",
       "      <td>2171.717172</td>\n",
       "    </tr>\n",
       "  </tbody>\n",
       "</table>\n",
       "<p>907 rows × 38 columns</p>\n",
       "</div>"
      ],
      "text/plain": [
       "       Unnamed: 0  id_realEstates  isNew  \\\n",
       "1               2       153867863  False   \n",
       "3               4       152776331  False   \n",
       "85             86       153152077  False   \n",
       "94             95       153995577  False   \n",
       "109           110       153586414  False   \n",
       "...           ...             ...    ...   \n",
       "15275       15276       153903887  False   \n",
       "15291       15292       151697757  False   \n",
       "15305       15306       153902389  False   \n",
       "15322       15323       153871864  False   \n",
       "15325       15326       153901467  False   \n",
       "\n",
       "                                 realEstate_name  phone_realEstate  \\\n",
       "1              tecnocasa fuenlabrada ferrocarril       916358736.0   \n",
       "3              tecnocasa fuenlabrada ferrocarril       916358736.0   \n",
       "85                       sinergical inmobiliaria               NaN   \n",
       "94                               viviendas365com       911226014.0   \n",
       "109              area uno asesores inmobiliarios       912664081.0   \n",
       "...                                          ...               ...   \n",
       "15275  aliseda servicios de gestion inmobiliaria       911368198.0   \n",
       "15291                                    unipiso       912788631.0   \n",
       "15305                             jadein ferrero       914871639.0   \n",
       "15322                          gestion comercial       911220662.0   \n",
       "15325                              montehogar 68       911790675.0   \n",
       "\n",
       "                                            url_inmueble  rooms  bathrooms  \\\n",
       "1      https://www.fotocasa.es/es/comprar/vivienda/ma...    3.0        1.0   \n",
       "3      https://www.fotocasa.es/es/comprar/vivienda/ma...    3.0        1.0   \n",
       "85     https://www.fotocasa.es/es/comprar/vivienda/le...    1.0        1.0   \n",
       "94     https://www.fotocasa.es/es/comprar/vivienda/le...    3.0        2.0   \n",
       "109    https://www.fotocasa.es/es/comprar/vivienda/ma...    3.0        3.0   \n",
       "...                                                  ...    ...        ...   \n",
       "15275  https://www.fotocasa.es/es/comprar/vivienda/al...    3.0        1.0   \n",
       "15291  https://www.fotocasa.es/es/comprar/vivienda/al...    3.0        2.0   \n",
       "15305  https://www.fotocasa.es/es/comprar/vivienda/ma...    3.0        2.0   \n",
       "15322  https://www.fotocasa.es/es/comprar/vivienda/ma...    3.0        1.0   \n",
       "15325  https://www.fotocasa.es/es/comprar/vivienda/ma...    2.0        2.0   \n",
       "\n",
       "       surface   price  ... level5Id level6Id level7Id level8Id accuracy  \\\n",
       "1          NaN   89000  ...        0        0        0        0        1   \n",
       "3         86.0   89000  ...        0        0        0        0        0   \n",
       "85        50.0  107000  ...        0        0        0        0        1   \n",
       "94       120.0  320000  ...        0        0        0        0        0   \n",
       "109      142.0  425000  ...        0        0        0        0        0   \n",
       "...        ...     ...  ...      ...      ...      ...      ...      ...   \n",
       "15275     78.0  138000  ...        0        0        0        0        1   \n",
       "15291    110.0  279000  ...        0        0        0        0        0   \n",
       "15305     85.0  170000  ...        0        0        0        0        0   \n",
       "15322     91.0  112000  ...        0        0        0        0        0   \n",
       "15325     99.0  215000  ...        0        0        0        0        1   \n",
       "\n",
       "               latitude          longitude zipCode customZone          pps  \n",
       "1              40,28674           -3,79351     NaN        NaN          NaN  \n",
       "3      40,2853785786438  -3,79508142135624     NaN        NaN  1034.883721  \n",
       "85             40,35059           -3,82693     NaN        NaN  2140.000000  \n",
       "94             40,31933           -3,77574     NaN        NaN  2666.666667  \n",
       "109          40,3313411         -3,8313868     NaN        NaN  2992.957746  \n",
       "...                 ...                ...     ...        ...          ...  \n",
       "15275          40,31381           -3,83733     NaN        NaN  1769.230769  \n",
       "15291        40,3259051           -3,76318     NaN        NaN  2536.363636  \n",
       "15305        40,2882193         -3,8098617     NaN        NaN  2000.000000  \n",
       "15322          40,28282           -3,78892     NaN        NaN  1230.769231  \n",
       "15325          40,28062           -3,79869     NaN        NaN  2171.717172  \n",
       "\n",
       "[907 rows x 38 columns]"
      ]
     },
     "execution_count": 44,
     "metadata": {},
     "output_type": "execute_result"
    }
   ],
   "source": [
    "cinturon_sur = df[df['level5'].isin(['Fuenlabrada','Leganés','Getafe', 'Alcorcón'])]\n",
    "cinturon_sur"
   ]
  },
  {
   "cell_type": "markdown",
   "id": "speaking-diamond",
   "metadata": {
    "id": "speaking-diamond"
   },
   "source": [
    "#### Ejercicio 14\n",
    "\n",
    "Calcula la media y la varianza de muestra para las siguientes variables: precio, habitaciones, superficie y baños (★★★)\n",
    "\n",
    "> Debes usar el subset obtenido en la pregunta 13\n",
    "\n",
    "- Crea y visualiza un diccionario con todos los valores"
   ]
  },
  {
   "cell_type": "code",
   "execution_count": 46,
   "id": "random-feeling",
   "metadata": {
    "colab": {
     "base_uri": "https://localhost:8080/"
    },
    "executionInfo": {
     "elapsed": 10,
     "status": "ok",
     "timestamp": 1760027304897,
     "user": {
      "displayName": "Saray Ruiz",
      "userId": "07829455197661124289"
     },
     "user_tz": -120
    },
    "id": "random-feeling",
    "outputId": "5f33c344-d42e-44bb-ed86-db76c8fb9581"
   },
   "outputs": [
    {
     "data": {
      "text/plain": [
       "{'precio medio': np.float64(223094.48070562293),\n",
       " 'varianza precio': np.float64(14921367508.04902),\n",
       " 'media de habitaciones': np.float64(3.0177383592017737),\n",
       " 'varianza habitaciones': np.float64(0.7188858892927542),\n",
       " 'superficie media': np.float64(111.75222363405337),\n",
       " 'varianza de superficie': np.float64(4263.051760316337),\n",
       " 'media de baños': np.float64(1.633221850613155),\n",
       " 'varianza de baños': np.float64(0.5717968625577321)}"
      ]
     },
     "execution_count": 46,
     "metadata": {},
     "output_type": "execute_result"
    }
   ],
   "source": [
    "cinturon_sur = df[df['level5'].isin(['Fuenlabrada','Leganés','Getafe', 'Alcorcón'])]\n",
    "\n",
    "precio_med_csur = cinturon_sur['price'].mean()\n",
    "precio_var_csur = cinturon_sur['price'].var()\n",
    "\n",
    "hab_med_csur = cinturon_sur['rooms'].mean()\n",
    "hab_var_csur = cinturon_sur['rooms'].var()\n",
    "\n",
    "superficie_med_csur = cinturon_sur['surface'].mean()\n",
    "superficie_var_csur = cinturon_sur['surface'].var()\n",
    "\n",
    "baños_med_csur = cinturon_sur['bathrooms'].mean()\n",
    "baños_var_csur = cinturon_sur['bathrooms'].var()\n",
    "\n",
    "diccionario ={'precio medio':precio_med_csur, \n",
    "              'varianza precio':precio_var_csur,\n",
    "              'media de habitaciones': hab_med_csur, \n",
    "              'varianza habitaciones':hab_var_csur,\n",
    "              'superficie media':superficie_med_csur, \n",
    "              'varianza de superficie': superficie_var_csur,\n",
    "              'media de baños': baños_med_csur, \n",
    "              'varianza de baños': baños_var_csur}\n",
    "\n",
    "diccionario\n",
    "# He buscado como quitar tantos decimales, lo he intentado meter en varios sitios y no he encontrado la forma {precio:,.2f}, procedo a actualizar ejercicios anteriores.\n",
    "\n"
   ]
  },
  {
   "cell_type": "code",
   "execution_count": 45,
   "id": "7cfb3605",
   "metadata": {},
   "outputs": [
    {
     "data": {
      "text/plain": [
       "{'price_media': 223094.48,\n",
       " 'price_varianza': 14921367508.05,\n",
       " 'rooms_media': 3.02,\n",
       " 'rooms_varianza': 0.72,\n",
       " 'surface_media': 111.75,\n",
       " 'surface_varianza': 4263.05,\n",
       " 'bathrooms_media': 1.63,\n",
       " 'bathrooms_varianza': 0.57}"
      ]
     },
     "execution_count": 45,
     "metadata": {},
     "output_type": "execute_result"
    }
   ],
   "source": [
    "variables = ['price', 'rooms', 'surface', 'bathrooms']\n",
    "estadisticas = {}\n",
    "for var in variables:\n",
    "    estadisticas[f'{var}_media'] = round(float(cinturon_sur[var].mean()), 2)\n",
    "    estadisticas[f'{var}_varianza'] = round(float(cinturon_sur[var].var()), 2)\n",
    "\n",
    "estadisticas"
   ]
  },
  {
   "cell_type": "markdown",
   "id": "revolutionary-matrix",
   "metadata": {
    "id": "revolutionary-matrix"
   },
   "source": [
    "#### Ejercicio 15\n",
    "\n",
    "¿Cuál es la casa más cara de cada población del cinturón sur de Madríd? (★★☆)\n",
    "\n",
    "> Debes usar el subset obtenido en la pregunta 13\n",
    "\n",
    "- Genera un DataFrame con esta información\n",
    "- Muestra tanto la dirección como el precio de la casa seleccionada de cada población.\n",
    "- Genera conclusiones en una celda markdown"
   ]
  },
  {
   "cell_type": "code",
   "execution_count": 51,
   "id": "fifteen-browse",
   "metadata": {
    "colab": {
     "base_uri": "https://localhost:8080/",
     "height": 35
    },
    "executionInfo": {
     "elapsed": 3,
     "status": "ok",
     "timestamp": 1760027304901,
     "user": {
      "displayName": "Saray Ruiz",
      "userId": "07829455197661124289"
     },
     "user_tz": -120
    },
    "id": "fifteen-browse",
    "outputId": "e665d630-17e6-4981-e535-ec618eea6eb8"
   },
   "outputs": [
    {
     "data": {
      "text/plain": [
       "'La casa más cara del cinturon sur se encuentra en la dirección: Getafe y su precio es 1,050,000.00 €'"
      ]
     },
     "execution_count": 51,
     "metadata": {},
     "output_type": "execute_result"
    }
   ],
   "source": [
    "cinturon_sur = df[df['level5'].isin(['Fuenlabrada','Leganés','Getafe', 'Alcorcón'])]\n",
    "\n",
    "max_price = cinturon_sur['price'].max()\n",
    "max_house = cinturon_sur.loc[cinturon_sur['price'] == max_price].iloc[0]\n",
    "address = max_house['address']\n",
    "price = max_house['price']\n",
    "f'La casa más cara del cinturon sur se encuentra en la dirección: {address} y su precio es {price:,.2f} €'"
   ]
  },
  {
   "cell_type": "markdown",
   "id": "248e8c35",
   "metadata": {},
   "source": [
    "#### Conclusión Ejercicio 15\n",
    "\n",
    "Getafe es un sitio costoso para vivir."
   ]
  },
  {
   "cell_type": "markdown",
   "id": "patent-jonathan",
   "metadata": {
    "id": "patent-jonathan"
   },
   "source": [
    "#### Ejercicio 16\n",
    "\n",
    "¿Qué puedes decir acerca del precio por metro cuadrado (precio/m2) entre los municipios de 'Getafe' y 'Alcorcón'? (★★☆)\n",
    "\n",
    "> Debes usar el subset obtenido en la pregunta 13\n",
    ">\n",
    "> Pista: Crea una nueva columna llamada `pps` (price per square en inglés) y luego analiza los valores"
   ]
  },
  {
   "cell_type": "code",
   "execution_count": 52,
   "id": "361a8d56",
   "metadata": {
    "colab": {
     "base_uri": "https://localhost:8080/"
    },
    "executionInfo": {
     "elapsed": 369,
     "status": "ok",
     "timestamp": 1760027305270,
     "user": {
      "displayName": "Saray Ruiz",
      "userId": "07829455197661124289"
     },
     "user_tz": -120
    },
    "id": "361a8d56",
    "outputId": "9f1b39dd-fdc7-4388-9f4f-5f650aa9c021"
   },
   "outputs": [
    {
     "name": "stdout",
     "output_type": "stream",
     "text": [
      "La columna 'surface' SÍ existe en el DataFrame original.\n"
     ]
    }
   ],
   "source": [
    "# Cargar el dataset original en un nuevo DataFrame\n",
    "df_original = pd.read_csv('real_estate.csv', sep=';')\n",
    "\n",
    "# Verificar si la columna 'surface' existe en el DataFrame original\n",
    "if 'surface' in df_original.columns:\n",
    "    print(\"La columna 'surface' SÍ existe en el DataFrame original.\")\n",
    "else:\n",
    "    print(\"La columna 'surface' NO existe en el DataFrame original.\")\n",
    "\n",
    "#lo he creado porque me saltaba una y otra vez un error, donde me decia que habia eliminado la columna 'surface' en el ejercicio6,\n",
    "#cuando este ejercicio lo he borrado para ver si podia arreglar el error."
   ]
  },
  {
   "cell_type": "code",
   "execution_count": 23,
   "id": "initial-liverpool",
   "metadata": {
    "colab": {
     "base_uri": "https://localhost:8080/",
     "height": 54
    },
    "executionInfo": {
     "elapsed": 4,
     "status": "ok",
     "timestamp": 1760027305271,
     "user": {
      "displayName": "Saray Ruiz",
      "userId": "07829455197661124289"
     },
     "user_tz": -120
    },
    "id": "initial-liverpool",
    "outputId": "94f57a95-f935-4ae2-c041-feaf89fedc77"
   },
   "outputs": [
    {
     "data": {
      "text/plain": [
       "'El promedio del precio por metro cuadrado en Getafe es: 2066.31 €/m²'"
      ]
     },
     "metadata": {},
     "output_type": "display_data"
    },
    {
     "data": {
      "text/plain": [
       "'El promedio del precio por metro cuadrado en Alcorcón es: 2239.30 €/m²'"
      ]
     },
     "execution_count": 23,
     "metadata": {},
     "output_type": "execute_result"
    }
   ],
   "source": [
    "# He recreado cinturon_sur desde el original para asegurar que la columna 'surface' esté.\n",
    "cinturon_sur = df_original[df_original['level5'].isin(['Fuenlabrada','Leganés','Getafe', 'Alcorcón'])].copy()\n",
    "\n",
    "cinturon_sur['pps'] = cinturon_sur['price'] / cinturon_sur['surface'].replace(0, pd.NA)\n",
    "\n",
    "getafe = cinturon_sur[cinturon_sur['level5'] == 'Getafe'].copy()\n",
    "alcorcon = cinturon_sur[cinturon_sur['level5'] == 'Alcorcón'].copy()\n",
    "\n",
    "promediogetafe = getafe['pps'].mean()\n",
    "promedioalcorcon = alcorcon['pps'].mean()\n",
    "\n",
    "\n",
    "display (f'El promedio del precio por metro cuadrado en Getafe es: {promediogetafe:.2f} €/m²')\n",
    "f'El promedio del precio por metro cuadrado en Alcorcón es: {promedioalcorcon:.2f} €/m²'\n"
   ]
  },
  {
   "cell_type": "markdown",
   "id": "77f4fb6b000f9e0b",
   "metadata": {
    "id": "77f4fb6b000f9e0b"
   },
   "source": [
    "## Conclusiones"
   ]
  },
  {
   "cell_type": "code",
   "execution_count": null,
   "id": "pDUSgpe_zrAO",
   "metadata": {
    "id": "pDUSgpe_zrAO"
   },
   "outputs": [],
   "source": []
  },
  {
   "cell_type": "markdown",
   "id": "d68570bb7b80a83e",
   "metadata": {
    "id": "d68570bb7b80a83e"
   },
   "source": [
    "#### Ejercicio 17\n",
    "\n",
    "Escribe aquí tus conclusiones acerca de este proyecto\n",
    "\n",
    "Me ha resultado muy dificl, sobre todo en la busqueda de todos los .mean .var .max...etc, ya que la web (https://pandas.pydata.org/docs/reference/frame.html)se me traduce al español y la lupita de la busqueda no me entendia...\n",
    "\n",
    "El ejercicio 6 no lo he conseguido resolver. cada vez que lo intento el resto de ejercicios se va al decirme que 'surface' ha sido eliminado."
   ]
  }
 ],
 "metadata": {
  "colab": {
   "provenance": []
  },
  "kernelspec": {
   "display_name": "Python 3",
   "language": "python",
   "name": "python3"
  },
  "language_info": {
   "codemirror_mode": {
    "name": "ipython",
    "version": 3
   },
   "file_extension": ".py",
   "mimetype": "text/x-python",
   "name": "python",
   "nbconvert_exporter": "python",
   "pygments_lexer": "ipython3",
   "version": "3.11.4"
  }
 },
 "nbformat": 4,
 "nbformat_minor": 5
}
